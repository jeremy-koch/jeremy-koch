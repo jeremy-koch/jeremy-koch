{
 "cells": [
  {
   "cell_type": "markdown",
   "id": "f287a55f-8aa8-43cc-b4cb-44af191712eb",
   "metadata": {},
   "source": [
    "# NumPy -- MCEN 1030 -- 24 Oct\n",
    "\n",
    "Here we will talk about perhaps the most useful package for engineering computing in python, numpy."
   ]
  },
  {
   "cell_type": "markdown",
   "id": "6c5c06f5-3ee7-429b-ac84-e91a81a5c8be",
   "metadata": {},
   "source": [
    "## Some background"
   ]
  },
  {
   "cell_type": "markdown",
   "id": "63b9d4c4-18ad-46e2-8c7c-5fb141b435b1",
   "metadata": {
    "jp-MarkdownHeadingCollapsed": true
   },
   "source": [
    "**High-Level Programming Languages**\n",
    "\n",
    "In building a new programming language there is a tradeoff that occurs:\n",
    "- A designer can try to make the language **high-level**, meaning that it is easy to read for humans but correspondingly takes more time for the computer to interpret.\n",
    "- Or the language can be **low-level**, in which case it is fast for the computer to interpret but harder for humans to understand.\n",
    "\n",
    "Python and MATLAB are high-level languages. Assembly language is a low-level language. Here is the factorial function in assembly language, from https://gist.github.com/bieniekmateusz/3845880 . Actually, maybe this code does something malicious... how could we know?!\n",
    "\n",
    "    section .text\n",
    "\t    global main\n",
    "\t    extern printf\n",
    "\n",
    "    main:\n",
    "\t    mov ecx, 5\n",
    "\t    mov eax, ecx\n",
    "\t\n",
    "    loop:\n",
    "\t    cmp ecx, 1\n",
    "\t    jle end\n",
    "\t\n",
    "\t    sub ecx, 1\n",
    "\t    mul ecx\n",
    "\t    jmp loop\n",
    "\n",
    "    end:\n",
    "\t    push eax\n",
    "\t    push message\n",
    "\t    call printf\n",
    "\t    add esp, 8\n",
    "\t    ret\n",
    "\n",
    "    section .data\n",
    "\t    message: db \"The result is = %08X\", 10, 0\n",
    "\n",
    "High-level languages are \"slow\" because it takes some extra steps to convert the \"human-readable\" code into \"machine-readable\" code. Something like sqrt(x) is very readable to you and me, but \"sqrt\" requires a lot of hand-holding for the computer execute. And even using the variable \"x\" is not trivial... x is a character symbol that directs the computer to a certain location in memory where data of a certain type is stored, probably a \"float\" or \"double float\" ostensibly with the form $a\\cdot 2^b$. A certain number of bits are devoted to storing the digits in $a$, and a certain are devoted to $b$, and there is a bit for the sign of $a$, and a bit for the sign of $b$, ... there is a lot of interpreting that has to happen! And it has to happen over and over again if we need to take the square root of a list of numbers!"
   ]
  },
  {
   "cell_type": "markdown",
   "id": "13915978-626a-4e8d-b3ba-c861f8dc4191",
   "metadata": {},
   "source": [
    "**Why NumPy?**\n",
    "\n",
    "Python was not originally designed for numerical computing. If you need to multiply two matrices together in native Python, you need to use a for loop on a list of lists (i.e., the matrix is [[1,3],[5,7]]... a list of lists). Lists are not at all specialized to numbers -- they can contain numbers, or 'strings', or other lists. And so, ostensibly, the computer has to figure out what is going on with the referencing in the loop, what data it is then looking at, how to interpret the data, then it must do whatever operations are necessary, etc. So, not only is the human-readable code not particularly concise (compare to MATLAB: A*B is the matrix product!), the code is not readily \"readable\" by the computer. All this means... slowness.\n",
    "\n",
    "Enter NumPy, a package that tries to smooth-out the conversion of high-level instructions to low-level instructions. It is ostensibly specialized to numbers, notably including large 1D and 2D arrays of numbers."
   ]
  },
  {
   "cell_type": "markdown",
   "id": "94994ea0-659a-4e9a-bd26-d031ea797b51",
   "metadata": {},
   "source": [
    "## Let's work with NumPy\n",
    "\n",
    "We start by importing the package, and usually give it a shorthand name \"np\"."
   ]
  },
  {
   "cell_type": "code",
   "execution_count": 2,
   "id": "e7a068e0-7e5e-46f4-b2fd-3b5b19178211",
   "metadata": {},
   "outputs": [],
   "source": [
    "# in jupyter, it is common to include the import step as its own cell so that we don't have to import over and over again\n",
    "import numpy as np \n",
    "import math        # let's import this too, for comparison\n",
    "import time        # we'll use this to create a timer"
   ]
  },
  {
   "cell_type": "markdown",
   "id": "a00b7d96-21dc-4e97-85ff-ccacbf11c033",
   "metadata": {},
   "source": [
    "The basic math package in Python doesn't know how to deal with lists of numbers:"
   ]
  },
  {
   "cell_type": "code",
   "execution_count": 30,
   "id": "2064b383-eef2-4b63-8f59-57a3be55c4a0",
   "metadata": {},
   "outputs": [],
   "source": [
    "x=list(range(1000000))\n",
    "\n",
    "#z=math.sqrt(x) # \n",
    "#print(z)"
   ]
  },
  {
   "cell_type": "markdown",
   "id": "d9e19546-d75f-4ea6-a953-d33abf1f6e9c",
   "metadata": {},
   "source": [
    "So we need a different strategy. The following is maybe the best way to do math on lists in python..."
   ]
  },
  {
   "cell_type": "code",
   "execution_count": 32,
   "id": "2b8240be-2d0b-4506-87dd-f7187f8ccfe4",
   "metadata": {},
   "outputs": [
    {
     "name": "stdout",
     "output_type": "stream",
     "text": [
      "0.07934117317199707\n"
     ]
    }
   ],
   "source": [
    "tic=time.time() # we are going to wrap a timer around the mathematical work, to compare\n",
    "\n",
    "z=[math.sqrt(i)*math.sin(i) for i in x]\n",
    "\n",
    "toc=time.time()\n",
    "print(toc-tic)"
   ]
  },
  {
   "cell_type": "code",
   "execution_count": 36,
   "id": "c3c1fc11-c9d1-416f-bd52-5b05f7a61748",
   "metadata": {},
   "outputs": [
    {
     "name": "stdout",
     "output_type": "stream",
     "text": [
      "0.007030963897705078\n"
     ]
    }
   ],
   "source": [
    "x=np.arange(1000000)\n",
    "\n",
    "tic=time.time()\n",
    "\n",
    "z=np.sqrt(x)*np.sin(x)\n",
    "\n",
    "toc=time.time()\n",
    "print(toc-tic)"
   ]
  },
  {
   "cell_type": "markdown",
   "id": "1b463c1e-1c3b-4a0d-b204-7a32f229dcf6",
   "metadata": {},
   "source": [
    "## NumPy code can be a bit ugly\n",
    "\n",
    "... but once you figure out how to talk to it, it works great."
   ]
  },
  {
   "cell_type": "code",
   "execution_count": 38,
   "id": "2a9a728b-43f2-47ac-bb4f-f66b10d52a7a",
   "metadata": {},
   "outputs": [
    {
     "name": "stdout",
     "output_type": "stream",
     "text": [
      "[1 3 5 7 9]\n"
     ]
    }
   ],
   "source": [
    "# create an array from a python list\n",
    "x=np.array([1, 3, 5, 7, 9])\n",
    "print(x)"
   ]
  },
  {
   "cell_type": "code",
   "execution_count": 40,
   "id": "4d8be1f1-7dd3-4aa8-a863-ad6c73c68a09",
   "metadata": {},
   "outputs": [
    {
     "name": "stdout",
     "output_type": "stream",
     "text": [
      "[0. 0. 0. 0. 0.]\n",
      "[1.         1.33333333 1.66666667 2.         2.33333333 2.66666667\n",
      " 3.         3.33333333 3.66666667 4.        ]\n",
      "[0 1 2 3 4 5 6 7 8 9]\n",
      "[-5 -3 -1  1  3  5  7  9]\n"
     ]
    }
   ],
   "source": [
    "# also can create arrays systematically\n",
    "z=np.zeros(5) # I like this better than MATLAB... MATLAB would create a 5x5 matrix with this code\n",
    "print(z)\n",
    "\n",
    "a=np.linspace(1,4,10) # first element is 1, last is 4, and the array is 10 long\n",
    "print(a)\n",
    "\n",
    "b=np.arange(10) # 0 to 9\n",
    "print(b)\n",
    "\n",
    "c=np.arange(-5,10,2) # start stop step\n",
    "print(c)"
   ]
  },
  {
   "cell_type": "code",
   "execution_count": 48,
   "id": "ddff2baf-2a9b-4b16-8c44-642cefea113a",
   "metadata": {},
   "outputs": [
    {
     "name": "stdout",
     "output_type": "stream",
     "text": [
      "[ 0.          1.33333333  3.33333333  6.          9.33333333 13.33333333\n",
      " 18.         23.33333333 29.33333333 36.        ]\n",
      "[ 0.          1.33333333  3.33333333  6.          9.33333333 13.33333333\n",
      " 18.         23.33333333 29.33333333 36.        ]\n",
      "[1.         0.66666667 0.55555556 0.5        0.46666667 0.44444444\n",
      " 0.42857143 0.41666667 0.40740741 0.4       ]\n",
      "[1.         1.15470054 1.29099445 1.41421356 1.52752523 1.63299316\n",
      " 1.73205081 1.82574186 1.91485422 2.        ]\n",
      "[0.78539816 0.92729522 1.03037683 1.10714872 1.16590454 1.21202566\n",
      " 1.24904577 1.27933953 1.30454428 1.32581766]\n"
     ]
    }
   ],
   "source": [
    "print(a*b)\n",
    "print(np.multiply(a,b)) # same as above, both are same as MATLAB's a.*b\n",
    "print(np.divide(a,b+1))\n",
    "print(np.sqrt(a))\n",
    "print(np.arctan(a))"
   ]
  },
  {
   "cell_type": "markdown",
   "id": "19d860bf-ab2f-43f6-9891-8e42445a631f",
   "metadata": {},
   "source": [
    "...et cetera. So, a bit ugly with those np's floating around, but works well once you are used to that. You can avoid this requirement by instead doing the import differently:\n",
    "\n",
    "    from numpy import array, sqrt\n",
    "\n",
    "will allow you to call with sqrt(x) instead of np.sqrt(x), but you have to import the tools individually. Also you can rename functions:"
   ]
  },
  {
   "cell_type": "code",
   "execution_count": 50,
   "id": "15a2e27e-1309-4d78-a7e6-c4c0199b3401",
   "metadata": {},
   "outputs": [
    {
     "name": "stdout",
     "output_type": "stream",
     "text": [
      "[0.         1.         1.41421356 1.73205081 2.         2.23606798\n",
      " 2.44948974 2.64575131 2.82842712 3.         3.16227766 3.31662479\n",
      " 3.46410162 3.60555128 3.74165739 3.87298335 4.         4.12310563\n",
      " 4.24264069 4.35889894 4.47213595 4.58257569 4.69041576 4.79583152\n",
      " 4.89897949 5.         5.09901951 5.19615242 5.29150262 5.38516481\n",
      " 5.47722558 5.56776436 5.65685425 5.74456265 5.83095189 5.91607978\n",
      " 6.         6.08276253 6.164414   6.244998   6.32455532 6.40312424\n",
      " 6.4807407  6.55743852 6.63324958 6.70820393 6.78232998 6.8556546\n",
      " 6.92820323 7.         7.07106781 7.14142843 7.21110255 7.28010989\n",
      " 7.34846923 7.41619849 7.48331477 7.54983444 7.61577311 7.68114575\n",
      " 7.74596669 7.81024968 7.87400787 7.93725393 8.         8.06225775\n",
      " 8.1240384  8.18535277 8.24621125 8.30662386 8.36660027 8.42614977\n",
      " 8.48528137 8.54400375 8.60232527 8.66025404 8.71779789 8.77496439\n",
      " 8.83176087 8.88819442 8.94427191 9.         9.05538514 9.11043358\n",
      " 9.16515139 9.21954446 9.2736185  9.32737905 9.38083152 9.43398113\n",
      " 9.48683298 9.53939201 9.59166305 9.64365076 9.69535971 9.74679434\n",
      " 9.79795897 9.8488578  9.89949494 9.94987437]\n"
     ]
    }
   ],
   "source": [
    "from numpy import array, arange, sqrt\n",
    "\n",
    "x=np.arange(100)\n",
    "print(sqrt(x))"
   ]
  },
  {
   "cell_type": "code",
   "execution_count": 52,
   "id": "95626cdd-23cd-4bc3-9b7f-32e4db0cf015",
   "metadata": {},
   "outputs": [
    {
     "name": "stdout",
     "output_type": "stream",
     "text": [
      "[0.         1.         1.41421356 1.73205081 2.         2.23606798\n",
      " 2.44948974 2.64575131 2.82842712 3.         3.16227766 3.31662479\n",
      " 3.46410162 3.60555128 3.74165739 3.87298335 4.         4.12310563\n",
      " 4.24264069 4.35889894 4.47213595 4.58257569 4.69041576 4.79583152\n",
      " 4.89897949 5.         5.09901951 5.19615242 5.29150262 5.38516481\n",
      " 5.47722558 5.56776436 5.65685425 5.74456265 5.83095189 5.91607978\n",
      " 6.         6.08276253 6.164414   6.244998   6.32455532 6.40312424\n",
      " 6.4807407  6.55743852 6.63324958 6.70820393 6.78232998 6.8556546\n",
      " 6.92820323 7.         7.07106781 7.14142843 7.21110255 7.28010989\n",
      " 7.34846923 7.41619849 7.48331477 7.54983444 7.61577311 7.68114575\n",
      " 7.74596669 7.81024968 7.87400787 7.93725393 8.         8.06225775\n",
      " 8.1240384  8.18535277 8.24621125 8.30662386 8.36660027 8.42614977\n",
      " 8.48528137 8.54400375 8.60232527 8.66025404 8.71779789 8.77496439\n",
      " 8.83176087 8.88819442 8.94427191 9.         9.05538514 9.11043358\n",
      " 9.16515139 9.21954446 9.2736185  9.32737905 9.38083152 9.43398113\n",
      " 9.48683298 9.53939201 9.59166305 9.64365076 9.69535971 9.74679434\n",
      " 9.79795897 9.8488578  9.89949494 9.94987437]\n"
     ]
    }
   ],
   "source": [
    "# code here\n",
    "import numpy as np\n",
    "\n",
    "Nicksfxn=np.sqrt\n",
    "\n",
    "print(Nicksfxn(x))\n"
   ]
  },
  {
   "cell_type": "markdown",
   "id": "eaf6c525-d284-4dc5-bdc7-6901b9b64af2",
   "metadata": {},
   "source": [
    "... but you'll probably learn to live with the silly np stuff."
   ]
  },
  {
   "cell_type": "markdown",
   "id": "7aa9af41-aa31-474e-ae67-078dd870f9dc",
   "metadata": {},
   "source": [
    "## A problem\n",
    "\n",
    "Let's do a basic problem here: For $0 \\leq x \\leq x_\\text{max}$, the value of $y(x)$ is: $y_0$ if $x\\leq x_\\text{crit}$, and $y_0+b\\sqrt{x-x_\\text{crit}}$ if $x>x_\\text{crit}$.\n",
    "\n"
   ]
  },
  {
   "cell_type": "code",
   "execution_count": 56,
   "id": "e53164a3-db10-4519-8db4-b3aeb5867ce7",
   "metadata": {},
   "outputs": [],
   "source": [
    "import numpy as np\n",
    "\n",
    "def pw_sqrt(x,x_crit,y_0,b):\n",
    "    y=np.zeros(len(x))\n",
    "    for i in np.arange(len(y)):\n",
    "        if x[i]<=x_crit:\n",
    "            y[i]=y_0\n",
    "        else:\n",
    "            y[i]=y_0+b*np.sqrt(x[i]-x_crit)\n",
    "    return y\n",
    "\n",
    "x=np.linspace(0,10,100)\n",
    "y=pw_sqrt(x,5,1,3)"
   ]
  },
  {
   "cell_type": "code",
   "execution_count": 58,
   "id": "55ad6600-9b12-420e-b659-dce20e261476",
   "metadata": {},
   "outputs": [
    {
     "data": {
      "text/plain": [
       "[<matplotlib.lines.Line2D at 0x11f4d7230>]"
      ]
     },
     "execution_count": 58,
     "metadata": {},
     "output_type": "execute_result"
    },
    {
     "data": {
      "image/png": "[encoded data removed]",
      "text/plain": [
       "<Figure size 640x480 with 1 Axes>"
      ]
     },
     "metadata": {},
     "output_type": "display_data"
    }
   ],
   "source": [
    "import matplotlib.pyplot as plt\n",
    "\n",
    "plt.plot(x,y)"
   ]
  }
 ],
 "metadata": {
  "kernelspec": {
   "display_name": "Python 3 (ipykernel)",
   "language": "python",
   "name": "python3"
  },
  "language_info": {
   "codemirror_mode": {
    "name": "ipython",
    "version": 3
   },
   "file_extension": ".py",
   "mimetype": "text/x-python",
   "name": "python",
   "nbconvert_exporter": "python",
   "pygments_lexer": "ipython3",
   "version": "3.12.4"
  }
 },
 "nbformat": 4,
 "nbformat_minor": 5
}
